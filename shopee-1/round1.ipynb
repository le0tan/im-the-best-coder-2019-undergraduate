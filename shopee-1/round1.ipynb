{
 "cells": [
  {
   "cell_type": "code",
   "execution_count": null,
   "metadata": {},
   "outputs": [],
   "source": [
    "import pandas as pd\n",
    "import numpy as np\n",
    "import matplotlib.pyplot as plt\n",
    "\n",
    "%matplotlib inline"
   ]
  },
  {
   "cell_type": "code",
   "execution_count": null,
   "metadata": {},
   "outputs": [],
   "source": [
    "group = pd.read_csv('keyword_list.csv')\n",
    "target = pd.read_csv('Keyword_spam_question.csv', index_col = 'index')"
   ]
  },
  {
   "cell_type": "code",
   "execution_count": null,
   "metadata": {},
   "outputs": [],
   "source": [
    "target.head()"
   ]
  },
  {
   "cell_type": "code",
   "execution_count": null,
   "metadata": {},
   "outputs": [],
   "source": [
    "group_set = {}\n",
    "\n",
    "for index, items in group.iterrows():\n",
    "    for item in items[1].split(', '):\n",
    "        if item not in group_set.keys():\n",
    "            group_set[item] = []\n",
    "        group_set[item].append(items[0])"
   ]
  },
  {
   "cell_type": "code",
   "execution_count": null,
   "metadata": {},
   "outputs": [],
   "source": [
    "target['name'] = target['name'].str.lower()"
   ]
  },
  {
   "cell_type": "code",
   "execution_count": null,
   "metadata": {},
   "outputs": [],
   "source": [
    "result = {}\n",
    "\n",
    "for index, name in target.iterrows():\n",
    "    result[index] = set()\n",
    "    words = name[0].split(' ')\n",
    "    for l in range(1, min(4, len(words))):\n",
    "        temp = []\n",
    "        for i in range(len(words)-l):\n",
    "            temp.append(\" \".join(words[i:i+l+1]))\n",
    "        words.extend(temp)\n",
    "    for word in words:\n",
    "        if word.lower() in group_set:\n",
    "            result[index].add(group_set[word.lower()][0])\n",
    "    if index%20000 == 0:\n",
    "        print(index)"
   ]
  },
  {
   "cell_type": "code",
   "execution_count": null,
   "metadata": {},
   "outputs": [],
   "source": [
    "import csv\n",
    "\n",
    "d = {}\n",
    "\n",
    "for key in result.keys():\n",
    "    d[key] = '\"' + str(list(result[key])) + '\"'"
   ]
  },
  {
   "cell_type": "code",
   "execution_count": null,
   "metadata": {},
   "outputs": [],
   "source": [
    "with open('res.csv', 'w') as f:\n",
    "    for key in d.keys():\n",
    "        f.write(\"%s,%s\\n\"%(key, d[key]))"
   ]
  },
  {
   "cell_type": "code",
   "execution_count": null,
   "metadata": {},
   "outputs": [],
   "source": [
    "df = pd.DataFrame.from_dict(d)"
   ]
  },
  {
   "cell_type": "code",
   "execution_count": null,
   "metadata": {},
   "outputs": [],
   "source": [
    "df.head()"
   ]
  }
 ],
 "metadata": {
  "kernelspec": {
   "display_name": "Python 3",
   "language": "python",
   "name": "python3"
  },
  "language_info": {
   "codemirror_mode": {
    "name": "ipython",
    "version": 3
   },
   "file_extension": ".py",
   "mimetype": "text/x-python",
   "name": "python",
   "nbconvert_exporter": "python",
   "pygments_lexer": "ipython3",
   "version": "3.7.4"
  }
 },
 "nbformat": 4,
 "nbformat_minor": 4
}
