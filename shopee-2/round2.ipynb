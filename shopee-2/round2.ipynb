{
 "cells": [
  {
   "cell_type": "code",
   "execution_count": null,
   "metadata": {},
   "outputs": [],
   "source": [
    "import pandas as pd\n",
    "import numpy as np"
   ]
  },
  {
   "cell_type": "code",
   "execution_count": null,
   "metadata": {},
   "outputs": [],
   "source": [
    "bank = pd.read_csv('bank_accounts.csv')\n",
    "credit = pd.read_csv('credit_cards.csv')\n",
    "devices = pd.read_csv('devices.csv')\n",
    "orders = pd.read_csv('orders.csv')"
   ]
  },
  {
   "cell_type": "code",
   "execution_count": null,
   "metadata": {},
   "outputs": [],
   "source": [
    "devices.head()"
   ]
  },
  {
   "cell_type": "code",
   "execution_count": null,
   "metadata": {},
   "outputs": [],
   "source": [
    "account_set = {}\n",
    "credit_set = {}\n",
    "device_set = {}\n",
    "for index, row in bank.iterrows():\n",
    "    usrid = row[0]\n",
    "    acc = row[1]\n",
    "    if not acc in account_set:\n",
    "        account_set[acc] = set()\n",
    "        account_set[acc].add(usrid)\n",
    "    else:\n",
    "        account_set[acc].add(usrid)"
   ]
  },
  {
   "cell_type": "code",
   "execution_count": null,
   "metadata": {},
   "outputs": [],
   "source": [
    "for index, row in credit.iterrows():\n",
    "    usrid = row[0]\n",
    "    credit_card = row[1]\n",
    "    if not credit_card in credit_set:\n",
    "        credit_set[credit_card] = set()\n",
    "        credit_set[credit_card].add(usrid)\n",
    "    else:\n",
    "        credit_set[credit_card].add(usrid)"
   ]
  },
  {
   "cell_type": "code",
   "execution_count": null,
   "metadata": {},
   "outputs": [],
   "source": [
    "for index, row in devices.iterrows():\n",
    "    usrid = row[0]\n",
    "    devid = row[1]\n",
    "    if not devid in device_set:\n",
    "        device_set[devid] = set()\n",
    "        device_set[devid].add(usrid)\n",
    "    else:\n",
    "        device_set[devid].add(usrid)"
   ]
  },
  {
   "cell_type": "code",
   "execution_count": null,
   "metadata": {},
   "outputs": [],
   "source": [
    "import networkx as nx\n",
    "G = nx.Graph()\n",
    "adj = {}"
   ]
  },
  {
   "cell_type": "code",
   "execution_count": null,
   "metadata": {},
   "outputs": [],
   "source": [
    "count = 0\n",
    "for key in account_set.keys():\n",
    "    idlist = list(account_set[key])\n",
    "    \n",
    "    if len(idlist) != 1:\n",
    "        for i in range(len(idlist)-1):\n",
    "            for j in range(i+1, len(idlist)):\n",
    "                G.add_edge(idlist[i], idlist[j])\n",
    "                G.add_edge(idlist[j], idlist[i])\n",
    "                if not idlist[i] in adj:\n",
    "                    adj[idlist[i]] = set()\n",
    "                adj[idlist[i]].add(idlist[j])\n",
    "                if not idlist[j] in adj:\n",
    "                    adj[idlist[j]] = set()\n",
    "                adj[idlist[j]].add(idlist[i])\n",
    "    count = count + 1\n",
    "    if count % 100000 == 0:\n",
    "        print(count)"
   ]
  },
  {
   "cell_type": "code",
   "execution_count": null,
   "metadata": {},
   "outputs": [],
   "source": [
    "count = 0\n",
    "for key in credit_set.keys():\n",
    "    idlist = list(credit_set[key])\n",
    "    \n",
    "    if len(idlist) != 1:\n",
    "        for i in range(len(idlist)-1):\n",
    "            for j in range(i+1, len(idlist)):\n",
    "                G.add_edge(idlist[i], idlist[j])\n",
    "                G.add_edge(idlist[j], idlist[i])\n",
    "                if not idlist[i] in adj:\n",
    "                    adj[idlist[i]] = set()\n",
    "                adj[idlist[i]].add(idlist[j])\n",
    "                if not idlist[j] in adj:\n",
    "                    adj[idlist[j]] = set()\n",
    "                adj[idlist[j]].add(idlist[i])\n",
    "    count = count + 1\n",
    "    if count % 10000 == 0:\n",
    "        print(count)"
   ]
  },
  {
   "cell_type": "code",
   "execution_count": null,
   "metadata": {},
   "outputs": [],
   "source": [
    "count = 0\n",
    "for key in device_set.keys():\n",
    "    idlist = list(device_set[key])\n",
    "    \n",
    "    if len(idlist) != 1:\n",
    "        for i in range(len(idlist)-1):\n",
    "            for j in range(i+1, len(idlist)):\n",
    "                G.add_edge(idlist[i], idlist[j])\n",
    "                G.add_edge(idlist[j], idlist[i])\n",
    "                if not idlist[i] in adj:\n",
    "                    adj[idlist[i]] = set()\n",
    "                adj[idlist[i]].add(idlist[j])\n",
    "                if not idlist[j] in adj:\n",
    "                    adj[idlist[j]] = set()\n",
    "                adj[idlist[j]].add(idlist[i])\n",
    "    count = count + 1\n",
    "    if count % 100000 == 0:\n",
    "        print(count)"
   ]
  },
  {
   "cell_type": "code",
   "execution_count": null,
   "metadata": {},
   "outputs": [],
   "source": [
    "nodes = set(G.nodes())\n",
    "result = {}\n",
    "count = 0\n",
    "for index, row in orders.iterrows():\n",
    "    src = row['buyer_userid']\n",
    "    tar = row['seller_userid']\n",
    "    orderid = row['orderid']\n",
    "    try:\n",
    "        _, _ = nx.bidirectional_dijkstra(G, src, tar)\n",
    "        result[orderid] = 1\n",
    "    except:\n",
    "        result[orderid] = 0\n",
    "    count = count + 1\n",
    "    if count % 100 == 0:\n",
    "        print(count)"
   ]
  },
  {
   "cell_type": "code",
   "execution_count": null,
   "metadata": {},
   "outputs": [],
   "source": [
    "with open('res.csv', 'w') as f:\n",
    "    for key in result.keys():\n",
    "        f.write(\"%s,%s\\n\"%(key, result[key]))"
   ]
  },
  {
   "cell_type": "code",
   "execution_count": null,
   "metadata": {},
   "outputs": [],
   "source": [
    "sum(result.values())"
   ]
  }
 ],
 "metadata": {
  "kernelspec": {
   "display_name": "Python 3",
   "language": "python",
   "name": "python3"
  },
  "language_info": {
   "codemirror_mode": {
    "name": "ipython",
    "version": 3
   },
   "file_extension": ".py",
   "mimetype": "text/x-python",
   "name": "python",
   "nbconvert_exporter": "python",
   "pygments_lexer": "ipython3",
   "version": "3.7.4"
  }
 },
 "nbformat": 4,
 "nbformat_minor": 4
}
